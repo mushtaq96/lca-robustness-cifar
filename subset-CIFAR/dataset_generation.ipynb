{
 "cells": [
  {
   "cell_type": "code",
   "execution_count": 1,
   "metadata": {},
   "outputs": [
    {
     "name": "stderr",
     "output_type": "stream",
     "text": [
      "/home/bokhars/thesis/.venv/lib/python3.9/site-packages/torchvision/io/image.py:13: UserWarning: Failed to load image Python extension: '/home/bokhars/thesis/.venv/lib/python3.9/site-packages/torchvision/image.so: undefined symbol: _ZN3c104cuda9SetDeviceEi'If you don't plan on using image functionality from `torchvision.io`, you can ignore this warning. Otherwise, there might be something wrong with your environment. Did you have `libjpeg` or `libpng` installed before building `torchvision` from source?\n",
      "  warn(\n"
     ]
    }
   ],
   "source": [
    "import torch\n",
    "from torchvision.datasets import CIFAR10\n",
    "from torch.utils.data import Subset\n",
    "from torchvision.transforms import transforms\n",
    "\n",
    "data_dir = '/net/smtcac2623/fs1/scr/scr1/mushtaq/cifar' #'/net/smtcac0060/fs2/scr/scr2/datasets/cifar/'\n",
    "\n",
    "train = transforms.Compose([\n",
    "    transforms.RandomHorizontalFlip(),\n",
    "    transforms.ToTensor(),\n",
    "])\n",
    "\n",
    "test = transforms.Compose([\n",
    "    transforms.ToTensor(),\n",
    "])\n",
    "    \n",
    "train_dataset_ov = CIFAR10(root=data_dir, train = True, download=False,  transform = train)\n",
    "test_dataset_ov = CIFAR10(root=data_dir, train = False, download=False, transform = test)\n",
    "\n",
    "classes = list(range(10))\n",
    "\n",
    "# create a subset of the train dataset with 500 images for each class\n",
    "train_subset_indices = []\n",
    "for c in classes:\n",
    "    indices = torch.where(torch.tensor(train_dataset_ov.targets) == c)[0]\n",
    "    train_subset_indices += indices[:500].tolist()\n",
    "train_subset = Subset(train_dataset_ov, train_subset_indices)\n",
    "\n",
    "torch.save(train_subset, 'cifar10-train.pth')\n",
    "\n",
    "# create a subset of the test dataset with 100 images for each class\n",
    "test_subset_indices = []\n",
    "for c in classes:\n",
    "    indices = torch.where(torch.tensor(test_dataset_ov.targets) == c)[0]\n",
    "    test_subset_indices += indices[:100].tolist()\n",
    "test_subset = Subset(test_dataset_ov, test_subset_indices)\n",
    "\n",
    "torch.save(test_subset, 'cifar10-test.pth')"
   ]
  }
 ],
 "metadata": {
  "kernelspec": {
   "display_name": ".venv0060",
   "language": "python",
   "name": "python3"
  },
  "language_info": {
   "codemirror_mode": {
    "name": "ipython",
    "version": 3
   },
   "file_extension": ".py",
   "mimetype": "text/x-python",
   "name": "python",
   "nbconvert_exporter": "python",
   "pygments_lexer": "ipython3",
   "version": "3.9.5"
  }
 },
 "nbformat": 4,
 "nbformat_minor": 2
}
